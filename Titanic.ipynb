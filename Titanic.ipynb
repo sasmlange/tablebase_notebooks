{
 "cells": [
  {
   "attachments": {},
   "cell_type": "markdown",
   "metadata": {},
   "source": [
    "This tutorial will use the titanic dataset which is available on [OpenML](https://www.openml.org/search?type=data&sort=runs&id=40945&status=active). Place it in the same directory as this Jupiter Notebook.  "
   ]
  },
  {
   "attachments": {},
   "cell_type": "markdown",
   "metadata": {},
   "source": [
    "The first thing we have to do is to import our data. We can do that by doing the following:"
   ]
  },
  {
   "cell_type": "code",
   "execution_count": null,
   "metadata": {},
   "outputs": [],
   "source": [
    "import tablebase\n",
    "\n",
    "Titanic_Data = tablebase.CsvTable(\"Titanic.csv\")"
   ]
  },
  {
   "attachments": {},
   "cell_type": "markdown",
   "metadata": {},
   "source": [
    "In line one we imported tablebase. Next we made an object called **Titanic_Data** the contains our imported csv file (*Titanic.csv*). Now, lets print out the data by using the **display** method:"
   ]
  },
  {
   "cell_type": "code",
   "execution_count": null,
   "metadata": {},
   "outputs": [],
   "source": [
    "Titanic_Data.display()"
   ]
  },
  {
   "attachments": {},
   "cell_type": "markdown",
   "metadata": {},
   "source": [
    "As you might have guessed, the **fare** in 1912 Brutish Pounds. We can convert it to USD by multiplying the **fare** column by 4.87. We can do this with the **expand** method."
   ]
  },
  {
   "cell_type": "code",
   "execution_count": null,
   "metadata": {},
   "outputs": [],
   "source": [
    "Titanic_Data.expand(\"fare\", \"0 if @fare@ == '?' else float(@fare@) * 4.87\")\n",
    "Titanic_Data.display()"
   ]
  },
  {
   "attachments": {},
   "cell_type": "markdown",
   "metadata": {},
   "source": [
    "As you can see, the code above changes the column **fare** to the old **fare** multiplied by 4.87. We had to include the if statement because there are some fares that say `?` which means unknown."
   ]
  },
  {
   "attachments": {},
   "cell_type": "markdown",
   "metadata": {},
   "source": [
    "Now we know we have the data that we like. We can now create a filter to split the data by gender:"
   ]
  },
  {
   "cell_type": "code",
   "execution_count": null,
   "metadata": {},
   "outputs": [],
   "source": [
    "Male_Data = Titanic_Data.filter(\"@sex@ == 'male'\")\n",
    "Female_Data = Titanic_Data.filter(\"@sex@ == 'female'\")"
   ]
  },
  {
   "attachments": {},
   "cell_type": "markdown",
   "metadata": {},
   "source": [
    "First we make an object with only male passengers by filtering for records where the column **sex** is **male**. We then did the same thing for the female passengers by filtering for records where the column **sex** is **female**. Now lets calculate the mean for the survival rate of both male and female passengers. First we need to make a simple mean function:"
   ]
  },
  {
   "cell_type": "code",
   "execution_count": null,
   "metadata": {},
   "outputs": [],
   "source": [
    "def mean(data: list):\n",
    "    return sum(float(item) for item in data)/int(len(data))"
   ]
  },
  {
   "attachments": {},
   "cell_type": "markdown",
   "metadata": {},
   "source": [
    "We now can find the mean for both men and women and print the results to the console."
   ]
  },
  {
   "cell_type": "code",
   "execution_count": null,
   "metadata": {},
   "outputs": [],
   "source": [
    "print(\"Average survival for men:\", mean(Male_Data.get_col(\"survived\")))\n",
    "print(\"Average survival for women:\", mean(Female_Data.get_col(\"survived\")))"
   ]
  },
  {
   "attachments": {},
   "cell_type": "markdown",
   "metadata": {},
   "source": [
    "What if we want to the survival rate of first class women. We can filter by the column **pclass**."
   ]
  },
  {
   "cell_type": "code",
   "execution_count": null,
   "metadata": {},
   "outputs": [],
   "source": [
    "print(\"Average survival for women in a class less then 3:\", mean(Female_Data.filter(\"int(@pclass@) < 3\").get_col(\"survived\")))"
   ]
  }
 ],
 "metadata": {
  "kernelspec": {
   "display_name": "venv",
   "language": "python",
   "name": "python3"
  },
  "language_info": {
   "codemirror_mode": {
    "name": "ipython",
    "version": 3
   },
   "file_extension": ".py",
   "mimetype": "text/x-python",
   "name": "python",
   "nbconvert_exporter": "python",
   "pygments_lexer": "ipython3",
   "version": "3.10.8 (tags/v3.10.8:aaaf517, Oct 11 2022, 16:50:30) [MSC v.1933 64 bit (AMD64)]"
  },
  "orig_nbformat": 4,
  "vscode": {
   "interpreter": {
    "hash": "14c613303e68e3eca32bf07c83495ad1f036a5c8494779a932581e65a81b96bc"
   }
  }
 },
 "nbformat": 4,
 "nbformat_minor": 2
}
